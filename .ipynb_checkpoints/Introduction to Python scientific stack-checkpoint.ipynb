{
 "cells": [
  {
   "cell_type": "markdown",
   "metadata": {},
   "source": [
    "# Introduction to Python programming"
   ]
  },
  {
   "cell_type": "markdown",
   "metadata": {},
   "source": [
    "This class is dedicated to acquaintance with the Python programming language, and its \"scientific stack\": numpy, scipy, matplotlib"
   ]
  },
  {
   "cell_type": "markdown",
   "metadata": {},
   "source": [
    "Python is a high-level, dynamically typed multiparadigm (object-oriented, imperative, functional and procedural) programming language. Python code is often said to be almost like pseudocode, since it allows you to express very powerful ideas in very few lines of code while being very readable. As an example, here is an implementation of the classic quicksort algorithm in Python:"
   ]
  },
  {
   "cell_type": "code",
   "execution_count": 4,
   "metadata": {},
   "outputs": [
    {
     "name": "stdout",
     "output_type": "stream",
     "text": [
      "[1, 1, 2, 3, 6, 8, 10]\n"
     ]
    }
   ],
   "source": [
    "def quicksort3(array):\n",
    "    if len(array) <= 1:\n",
    "        return array\n",
    "    pivot = array[len(array) // 2]\n",
    "    left_partition = [i for i in array if i < pivot]\n",
    "    middle_partition = [i for i in array if i == pivot]\n",
    "    right_partition = [i for i in array if i > pivot]\n",
    "    return quicksort3(left_partition) + middle_partition + quicksort3(right_partition)\n",
    "\n",
    "print(quicksort3([3,6,8,10,1,2,1]))"
   ]
  },
  {
   "cell_type": "markdown",
   "metadata": {},
   "source": [
    "There are currently two different supported versions of Python, 2.7 and 3.7. Somewhat confusingly, Python 3.0 introduced many backwards-incompatible changes to the language, so code written for 2.7 may not work under 3.5 and vice versa. For this class all code will use Python 3.5 as it is being used by stable versions of Anaconda.\n",
    "\n",
    "You can check your Python version at the command line by running python --version."
   ]
  },
  {
   "cell_type": "markdown",
   "metadata": {},
   "source": [
    "## Basic data types"
   ]
  },
  {
   "cell_type": "markdown",
   "metadata": {},
   "source": [
    "Just like most languages, Python has a number of basic types including integers, floats, booleans, and strings.\n",
    "These data types behave in ways that are familiar from other programming languages.\n",
    "\n",
    "Numbers: Integers and floats work as you would expect from other languages:"
   ]
  },
  {
   "cell_type": "code",
   "execution_count": 6,
   "metadata": {},
   "outputs": [
    {
     "name": "stdout",
     "output_type": "stream",
     "text": [
      "<class 'int'>\n",
      "5\n",
      "6\n",
      "4\n",
      "10\n",
      "25\n",
      "6\n",
      "12\n",
      "<class 'float'>\n",
      "3.5 4.5 7.0 12.25\n"
     ]
    }
   ],
   "source": [
    "x = 5\n",
    "print(type(x))\n",
    "print(x)\n",
    "print(x + 1)\n",
    "print(x - 1)\n",
    "print(x * 2)\n",
    "print(x ** 2)\n",
    "x += 1\n",
    "print(x)\n",
    "x *= 2\n",
    "print(x)\n",
    "y = 3.5\n",
    "print(type(y))\n",
    "print(y, y + 1, y * 2, y ** 2)"
   ]
  },
  {
   "cell_type": "markdown",
   "metadata": {},
   "source": [
    "Note that unlike many languages, Python does not have unary increment (x++) or decrement (x--) operators.\n",
    "\n",
    "Python also has built-in types for complex numbers: https://docs.python.org/3.5/library/stdtypes.html#numeric-types-int-float-complex\n",
    "\n",
    "Booleans: Python implements all of the usual operators for Boolean logic, but uses English words rather than symbols (&&, ||, etc.):"
   ]
  },
  {
   "cell_type": "code",
   "execution_count": 7,
   "metadata": {},
   "outputs": [
    {
     "name": "stdout",
     "output_type": "stream",
     "text": [
      "<class 'bool'>\n",
      "False\n",
      "True\n",
      "False\n",
      "True\n"
     ]
    }
   ],
   "source": [
    "t = True\n",
    "f = False\n",
    "print(type(t))\n",
    "print(t and f)\n",
    "print(t or f)\n",
    "print(not t)\n",
    "print(t != f)"
   ]
  },
  {
   "cell_type": "markdown",
   "metadata": {},
   "source": [
    "Strings: Python has great support for strings:"
   ]
  },
  {
   "cell_type": "code",
   "execution_count": 8,
   "metadata": {},
   "outputs": [
    {
     "name": "stdout",
     "output_type": "stream",
     "text": [
      "hello\n",
      "5\n",
      "hello world\n",
      "hello world 123\n"
     ]
    }
   ],
   "source": [
    "# String literals can use single quotes\n",
    "hello = 'hello'\n",
    "\n",
    "# or double quotes; it does not matter.\n",
    "world = \"world\"\n",
    "\n",
    "# Prints \"hello\"\n",
    "print(hello)\n",
    "\n",
    "# String length; prints \"5\"\n",
    "print(len(hello))\n",
    "\n",
    "# String concatenation\n",
    "helloworld = hello + ' ' + world\n",
    "\n",
    "# prints \"hello world\"\n",
    "print(helloworld)\n",
    "\n",
    "# sprintf style string formatting\n",
    "helloworld123 = '%s %s %d' % (hello, world, 123)\n",
    "\n",
    "# prints \"hello world 123\"\n",
    "print(helloworld123)"
   ]
  },
  {
   "cell_type": "markdown",
   "metadata": {},
   "source": [
    "String objects have a bunch of useful methods; for example:"
   ]
  },
  {
   "cell_type": "code",
   "execution_count": 9,
   "metadata": {},
   "outputs": [
    {
     "name": "stdout",
     "output_type": "stream",
     "text": [
      "Hello\n",
      "HELLO\n",
      "  hello\n",
      " hello \n",
      "he(ell)(ell)o\n",
      "world\n"
     ]
    }
   ],
   "source": [
    "s = \"hello\"\n",
    "# Capitalize a string; prints \"Hello\"\n",
    "print(s.capitalize())\n",
    "\n",
    "# Convert a string to uppercase; prints \"HELLO\"\n",
    "print(s.upper())\n",
    "\n",
    "# Right-justify a string, padding with spaces; prints \"  hello\"\n",
    "print(s.rjust(7))\n",
    "\n",
    "# Center a string, padding with spaces; prints \" hello \"\n",
    "print(s.center(7))\n",
    "\n",
    "# Replace all instances of one substring with another;\n",
    "# prints \"he(ell)(ell)o\"\n",
    "print(s.replace('l', '(ell)'))\n",
    "\n",
    "# Strip leading and trailing whitespace; prints \"world\"\n",
    "print('  world '.strip())"
   ]
  },
  {
   "cell_type": "markdown",
   "metadata": {},
   "source": [
    "You can find a list of all string methods in the documentation: https://docs.python.org/3.5/library/stdtypes.html#string-methods"
   ]
  },
  {
   "cell_type": "markdown",
   "metadata": {},
   "source": [
    "## Containers\n",
    "Python includes several built-in container types: lists, dictionaries, sets, and tuples."
   ]
  },
  {
   "cell_type": "markdown",
   "metadata": {},
   "source": [
    "### Lists\n",
    "A list is the Python equivalent of an array, but is resizeable and can contain elements of different types:"
   ]
  },
  {
   "cell_type": "code",
   "execution_count": 1,
   "metadata": {},
   "outputs": [
    {
     "name": "stdout",
     "output_type": "stream",
     "text": [
      "[3, 1, 2] 2\n",
      "2\n",
      "[3, 1, 'foo']\n",
      "[3, 1, 'foo', 'bar']\n",
      "bar [3, 1, 'foo']\n"
     ]
    }
   ],
   "source": [
    "# Create a list\n",
    "xs = [3, 1, 2]\n",
    "\n",
    "print(xs, xs[2])  # Prints \"[3, 1, 2] 2\"\n",
    "\n",
    "# Negative indices count from the end of the list; prints \"2\"\n",
    "print(xs[-1])\n",
    "\n",
    "# Lists can contain elements of different types\n",
    "xs[2] = 'foo'\n",
    "print(xs)\n",
    "\n",
    "# Add a new element to the end of the list\n",
    "xs.append('bar')\n",
    "print(xs)\n",
    "\n",
    "# Remove and return the last element of the list\n",
    "x = xs.pop()      \n",
    "print(x, xs)"
   ]
  },
  {
   "cell_type": "markdown",
   "metadata": {},
   "source": [
    "More information about lists: https://docs.python.org/3.5/tutorial/datastructures.html#more-on-lists"
   ]
  },
  {
   "cell_type": "markdown",
   "metadata": {},
   "source": [
    "Slicing: In addition to accessing list elements one at a time, Python provides concise syntax to access sublists; this is known as slicing:"
   ]
  },
  {
   "cell_type": "code",
   "execution_count": 5,
   "metadata": {},
   "outputs": [
    {
     "name": "stdout",
     "output_type": "stream",
     "text": [
      "[0, 1, 2, 3, 4, 5, 6, 7, 8, 9]\n",
      "[4, 5]\n",
      "[4, 5, 6, 7, 8, 9]\n",
      "[0, 1, 2, 3]\n",
      "[0, 1, 2, 3, 4, 5, 6, 7, 8, 9]\n",
      "[0, 1, 2, 3, 4, 5, 6, 7, 8]\n",
      "[0, 1, 2, 13, 14, 5, 6, 7, 8, 9]\n"
     ]
    }
   ],
   "source": [
    "# range is a built-in function that creates a list of integers\n",
    "nums = list(range(10))\n",
    "print(nums)\n",
    "\n",
    "# Get a slice from index 4 to 6 (exclusive);\n",
    "print(nums[4:6])\n",
    "\n",
    "# Get a slice from index 4 to the end;\n",
    "print(nums[4:])\n",
    "\n",
    "# Get a slice from the start to index 4 (exclusive);\n",
    "print(nums[:4])\n",
    "\n",
    "# Get a slice of the whole list;\n",
    "print(nums[:])\n",
    "\n",
    "# Slice indices can be negative;\n",
    "print(nums[:-1])\n",
    "\n",
    "# Assign a new sublist to a slice\n",
    "nums[3:5] = [13, 14]        \n",
    "print(nums)"
   ]
  },
  {
   "cell_type": "markdown",
   "metadata": {},
   "source": [
    "We will see slicing again in the context of numpy arrays.\n",
    "\n",
    "Loops: You can loop over the elements of a list like this:"
   ]
  },
  {
   "cell_type": "code",
   "execution_count": 8,
   "metadata": {},
   "outputs": [
    {
     "name": "stdout",
     "output_type": "stream",
     "text": [
      "horse\n",
      "mouse\n",
      "tiger\n"
     ]
    }
   ],
   "source": [
    "animals = ['horse', 'mouse', 'tiger']\n",
    "for animal in animals:\n",
    "    print(animal)"
   ]
  },
  {
   "cell_type": "markdown",
   "metadata": {},
   "source": [
    "If you want access to the index of each element within the body of a loop, use the built-in enumerate function:"
   ]
  },
  {
   "cell_type": "code",
   "execution_count": 9,
   "metadata": {},
   "outputs": [
    {
     "name": "stdout",
     "output_type": "stream",
     "text": [
      "#1: horse\n",
      "#2: mouse\n",
      "#3: tiger\n"
     ]
    }
   ],
   "source": [
    "animals = ['horse', 'mouse', 'tiger']\n",
    "for idx, animal in enumerate(animals):\n",
    "    print('#%d: %s' % (idx + 1, animal))"
   ]
  },
  {
   "cell_type": "markdown",
   "metadata": {},
   "source": [
    "List comprehensions: When programming, frequently we want to transform data. As a simple example, consider the following code that computes square numbers:"
   ]
  },
  {
   "cell_type": "code",
   "execution_count": null,
   "metadata": {},
   "outputs": [],
   "source": [
    "nums = [0, 1, 2, 3]\n",
    "squares = []\n",
    "for i in nums:\n",
    "    squares.append(i ** 2)\n",
    "print(squares)"
   ]
  },
  {
   "cell_type": "markdown",
   "metadata": {},
   "source": [
    "You can make this code simpler using a list comprehension:"
   ]
  },
  {
   "cell_type": "code",
   "execution_count": null,
   "metadata": {},
   "outputs": [],
   "source": [
    "nums = [0, 1, 2, 3]\n",
    "squares = [i ** 2 for i in nums]\n",
    "print(squares)"
   ]
  },
  {
   "cell_type": "markdown",
   "metadata": {},
   "source": [
    "List comprehensions can also contain conditions:"
   ]
  },
  {
   "cell_type": "code",
   "execution_count": 10,
   "metadata": {},
   "outputs": [
    {
     "name": "stdout",
     "output_type": "stream",
     "text": [
      "[0, 4]\n"
     ]
    }
   ],
   "source": [
    "nums = [0, 1, 2, 3]\n",
    "even_squares = [i ** 2 for i in nums if i % 2 == 0]\n",
    "print(even_squares)"
   ]
  },
  {
   "cell_type": "code",
   "execution_count": null,
   "metadata": {},
   "outputs": [],
   "source": []
  }
 ],
 "metadata": {
  "anaconda-cloud": {},
  "kernelspec": {
   "display_name": "Python 3",
   "language": "python",
   "name": "python3"
  },
  "language_info": {
   "codemirror_mode": {
    "name": "ipython",
    "version": 3
   },
   "file_extension": ".py",
   "mimetype": "text/x-python",
   "name": "python",
   "nbconvert_exporter": "python",
   "pygments_lexer": "ipython3",
   "version": "3.7.0"
  }
 },
 "nbformat": 4,
 "nbformat_minor": 1
}
