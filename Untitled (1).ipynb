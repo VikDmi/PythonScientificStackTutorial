{
 "cells": [
  {
   "cell_type": "markdown",
   "metadata": {},
   "source": [
    "# Introduction to Python programming"
   ]
  },
  {
   "cell_type": "markdown",
   "metadata": {},
   "source": [
    "This class is dedicated to acquaintance with the Python programming language, and its \"scientific stack\": numpy, scipy, matplotlib"
   ]
  },
  {
   "cell_type": "markdown",
   "metadata": {},
   "source": [
    "Python is a high-level, dynamically typed multiparadigm (object-oriented, imperative, functional and procedural) programming language. Python code is often said to be almost like pseudocode, since it allows you to express very powerful ideas in very few lines of code while being very readable. As an example, here is an implementation of the classic quicksort algorithm in Python:"
   ]
  },
  {
   "cell_type": "code",
   "execution_count": 4,
   "metadata": {
    "collapsed": false
   },
   "outputs": [
    {
     "name": "stdout",
     "output_type": "stream",
     "text": [
      "[1, 1, 2, 3, 6, 8, 10]\n"
     ]
    }
   ],
   "source": [
    "def quicksort3(array):\n",
    "    if len(array) <= 1:\n",
    "        return array\n",
    "    pivot = array[len(array) // 2]\n",
    "    left_partition = [i for i in array if i < pivot]\n",
    "    middle_partition = [i for i in array if i == pivot]\n",
    "    right_partition = [i for i in array if i > pivot]\n",
    "    return quicksort3(left_partition) + middle_partition + quicksort3(right_partition)\n",
    "\n",
    "print(quicksort3([3,6,8,10,1,2,1]))"
   ]
  },
  {
   "cell_type": "markdown",
   "metadata": {},
   "source": [
    "There are currently two different supported versions of Python, 2.7 and 3.7. Somewhat confusingly, Python 3.0 introduced many backwards-incompatible changes to the language, so code written for 2.7 may not work under 3.5 and vice versa. For this class all code will use Python 3.5 as it is being used by stable versions of Anaconda.\n",
    "\n",
    "You can check your Python version at the command line by running python --version."
   ]
  },
  {
   "cell_type": "markdown",
   "metadata": {},
   "source": [
    "## Basic data types"
   ]
  },
  {
   "cell_type": "markdown",
   "metadata": {},
   "source": [
    "Just like most languages, Python has a number of basic types including integers, floats, booleans, and strings.\n",
    "These data types behave in ways that are familiar from other programming languages.\n",
    "\n",
    "Numbers: Integers and floats work as you would expect from other languages:"
   ]
  },
  {
   "cell_type": "code",
   "execution_count": 6,
   "metadata": {
    "collapsed": false
   },
   "outputs": [
    {
     "name": "stdout",
     "output_type": "stream",
     "text": [
      "<class 'int'>\n",
      "5\n",
      "6\n",
      "4\n",
      "10\n",
      "25\n",
      "6\n",
      "12\n",
      "<class 'float'>\n",
      "3.5 4.5 7.0 12.25\n"
     ]
    }
   ],
   "source": [
    "x = 5\n",
    "print(type(x))\n",
    "print(x)\n",
    "print(x + 1)\n",
    "print(x - 1)\n",
    "print(x * 2)\n",
    "print(x ** 2)\n",
    "x += 1\n",
    "print(x)\n",
    "x *= 2\n",
    "print(x)\n",
    "y = 3.5\n",
    "print(type(y))\n",
    "print(y, y + 1, y * 2, y ** 2)"
   ]
  },
  {
   "cell_type": "markdown",
   "metadata": {},
   "source": [
    "Note that unlike many languages, Python does not have unary increment (x++) or decrement (x--) operators.\n",
    "\n",
    "Python also has built-in types for complex numbers: https://docs.python.org/3.5/library/stdtypes.html#numeric-types-int-float-complex\n",
    "\n",
    "Booleans: Python implements all of the usual operators for Boolean logic, but uses English words rather than symbols (&&, ||, etc.):"
   ]
  },
  {
   "cell_type": "code",
   "execution_count": 7,
   "metadata": {
    "collapsed": false
   },
   "outputs": [
    {
     "name": "stdout",
     "output_type": "stream",
     "text": [
      "<class 'bool'>\n",
      "False\n",
      "True\n",
      "False\n",
      "True\n"
     ]
    }
   ],
   "source": [
    "t = True\n",
    "f = False\n",
    "print(type(t))\n",
    "print(t and f)\n",
    "print(t or f)\n",
    "print(not t)\n",
    "print(t != f)"
   ]
  },
  {
   "cell_type": "markdown",
   "metadata": {},
   "source": [
    "Strings: Python has great support for strings:"
   ]
  },
  {
   "cell_type": "code",
   "execution_count": 8,
   "metadata": {
    "collapsed": false
   },
   "outputs": [
    {
     "name": "stdout",
     "output_type": "stream",
     "text": [
      "hello\n",
      "5\n",
      "hello world\n",
      "hello world 123\n"
     ]
    }
   ],
   "source": [
    "# String literals can use single quotes\n",
    "hello = 'hello'\n",
    "\n",
    "# or double quotes; it does not matter.\n",
    "world = \"world\"\n",
    "\n",
    "# Prints \"hello\"\n",
    "print(hello)\n",
    "\n",
    "# String length; prints \"5\"\n",
    "print(len(hello))\n",
    "\n",
    "# String concatenation\n",
    "helloworld = hello + ' ' + world\n",
    "\n",
    "# prints \"hello world\"\n",
    "print(helloworld)\n",
    "\n",
    "# sprintf style string formatting\n",
    "helloworld123 = '%s %s %d' % (hello, world, 123)\n",
    "\n",
    "# prints \"hello world 123\"\n",
    "print(helloworld123)"
   ]
  },
  {
   "cell_type": "markdown",
   "metadata": {},
   "source": [
    "String objects have a bunch of useful methods; for example:"
   ]
  },
  {
   "cell_type": "code",
   "execution_count": 9,
   "metadata": {
    "collapsed": false
   },
   "outputs": [
    {
     "name": "stdout",
     "output_type": "stream",
     "text": [
      "Hello\n",
      "HELLO\n",
      "  hello\n",
      " hello \n",
      "he(ell)(ell)o\n",
      "world\n"
     ]
    }
   ],
   "source": [
    "s = \"hello\"\n",
    "# Capitalize a string; prints \"Hello\"\n",
    "print(s.capitalize())\n",
    "\n",
    "# Convert a string to uppercase; prints \"HELLO\"\n",
    "print(s.upper())\n",
    "\n",
    "# Right-justify a string, padding with spaces; prints \"  hello\"\n",
    "print(s.rjust(7))\n",
    "\n",
    "# Center a string, padding with spaces; prints \" hello \"\n",
    "print(s.center(7))\n",
    "\n",
    "# Replace all instances of one substring with another;\n",
    "# prints \"he(ell)(ell)o\"\n",
    "print(s.replace('l', '(ell)'))\n",
    "\n",
    "# Strip leading and trailing whitespace; prints \"world\"\n",
    "print('  world '.strip())"
   ]
  },
  {
   "cell_type": "markdown",
   "metadata": {},
   "source": [
    "You can find a list of all string methods in the documentation: https://docs.python.org/3.5/library/stdtypes.html#string-methods"
   ]
  }
 ],
 "metadata": {
  "anaconda-cloud": {},
  "kernelspec": {
   "display_name": "Python [Root]",
   "language": "python",
   "name": "Python [Root]"
  },
  "language_info": {
   "codemirror_mode": {
    "name": "ipython",
    "version": 3
   },
   "file_extension": ".py",
   "mimetype": "text/x-python",
   "name": "python",
   "nbconvert_exporter": "python",
   "pygments_lexer": "ipython3",
   "version": "3.5.2"
  }
 },
 "nbformat": 4,
 "nbformat_minor": 0
}
